{
  "nbformat": 4,
  "nbformat_minor": 0,
  "metadata": {
    "colab": {
      "provenance": [],
      "authorship_tag": "ABX9TyN7fV2rp3/50OFbHVTkS5ld",
      "include_colab_link": true
    },
    "kernelspec": {
      "name": "python3",
      "display_name": "Python 3"
    },
    "language_info": {
      "name": "python"
    }
  },
  "cells": [
    {
      "cell_type": "markdown",
      "metadata": {
        "id": "view-in-github",
        "colab_type": "text"
      },
      "source": [
        "<a href=\"https://colab.research.google.com/github/EstefRZ99/rocket-girls-workshop/blob/main/python_desde_0.ipynb\" target=\"_parent\"><img src=\"https://colab.research.google.com/assets/colab-badge.svg\" alt=\"Open In Colab\"/></a>"
      ]
    },
    {
      "cell_type": "code",
      "execution_count": null,
      "metadata": {
        "colab": {
          "base_uri": "https://localhost:8080/"
        },
        "id": "xeoMeZoukyXk",
        "outputId": "0ff51919-0539-4978-d47a-a51fff350b32"
      },
      "outputs": [
        {
          "output_type": "stream",
          "name": "stdout",
          "text": [
            "hola mundis\n"
          ]
        }
      ],
      "source": [
        "print(\"hola mundis\")"
      ]
    },
    {
      "cell_type": "code",
      "source": [
        "# Variables y tipos básicos\n",
        "entero = 5\n",
        "flotante = 3.14\n",
        "texto = \"estef\"\n",
        "booleano = True\n"
      ],
      "metadata": {
        "id": "dI8KO1u-lBoj"
      },
      "execution_count": null,
      "outputs": []
    },
    {
      "cell_type": "code",
      "source": [
        "print(texto, entero, flotante, booleano)\n",
        "print(booleano)\n",
        "print(entero)"
      ],
      "metadata": {
        "colab": {
          "base_uri": "https://localhost:8080/"
        },
        "id": "FRXjJR9MlRZI",
        "outputId": "d9f68d52-ddb2-4961-f8bb-8b59f60dafed"
      },
      "execution_count": null,
      "outputs": [
        {
          "output_type": "stream",
          "name": "stdout",
          "text": [
            "estef 5 3.14 True\n",
            "True\n",
            "5\n"
          ]
        }
      ]
    },
    {
      "cell_type": "markdown",
      "source": [
        "## Mis primeras variables  \n",
        "- `entero`: un número entero  \n",
        "- `flotante`: un número con decimales  \n",
        "- `texto`: cadenas de caracteres  \n",
        "- `booleano`: True o False  \n"
      ],
      "metadata": {
        "id": "_KB4izqal-Z5"
      }
    },
    {
      "cell_type": "code",
      "source": [
        "x= 10\n",
        "if x > 5:\n",
        "    print(\"x es mayor que 5\")\n",
        "else: print(\"x es menor que 5\")\n",
        "\n",
        "# Bucle for\n",
        "for i in range(3):\n",
        "    print(\"Iteración\", i)"
      ],
      "metadata": {
        "colab": {
          "base_uri": "https://localhost:8080/"
        },
        "id": "MELxTp5tmFrK",
        "outputId": "96a294d8-b017-4d7b-c445-72fb2051cb17"
      },
      "execution_count": null,
      "outputs": [
        {
          "output_type": "stream",
          "name": "stdout",
          "text": [
            "x es mayor que 5\n",
            "Iteración 0\n",
            "Iteración 1\n",
            "Iteración 2\n"
          ]
        }
      ]
    },
    {
      "cell_type": "code",
      "source": [
        "colores = [\"rojo\", \"azul\", \"verde\"]\n",
        "for color in colores:\n",
        "    print(\"Dibuja con\", color)"
      ],
      "metadata": {
        "colab": {
          "base_uri": "https://localhost:8080/"
        },
        "id": "wo_o4wVOpxFM",
        "outputId": "94775779-b7c1-4abb-e765-588bb812c789"
      },
      "execution_count": null,
      "outputs": [
        {
          "output_type": "stream",
          "name": "stdout",
          "text": [
            "Dibuja con rojo\n",
            "Dibuja con azul\n",
            "Dibuja con verde\n"
          ]
        }
      ]
    },
    {
      "cell_type": "code",
      "source": [
        "tamaño = 0\n",
        "while tamaño < 5:\n",
        "    print(\"Sopla… el globo ahora mide\", tamaño)\n",
        "    tamaño += 1  # le sumas 1 cada vez que soplas\n"
      ],
      "metadata": {
        "colab": {
          "base_uri": "https://localhost:8080/"
        },
        "id": "EgO1cHXCqooI",
        "outputId": "6cd95601-bdd9-4b0f-fc46-d3ac096336c5"
      },
      "execution_count": null,
      "outputs": [
        {
          "output_type": "stream",
          "name": "stdout",
          "text": [
            "Sopla… el globo ahora mide 0\n",
            "Sopla… el globo ahora mide 1\n",
            "Sopla… el globo ahora mide 2\n",
            "Sopla… el globo ahora mide 3\n",
            "Sopla… el globo ahora mide 4\n"
          ]
        }
      ]
    },
    {
      "cell_type": "markdown",
      "source": [
        "| Palabra     | Para…                                                   | Mini-ejemplo                                 |\n",
        "| :---------- | :------------------------------------------------------ | :------------------------------------------- |\n",
        "| **if**      | Decidir: “si *esto*, haz *lo otro*”                     | `if temperatura > 30: print(\"¡Hace calor!\")` |\n",
        "| **elif**    | “Si no pasó lo anterior, pero *esto* sí, haz *aquello*” | `elif temperatura > 20: print(\"Templado\")`   |\n",
        "| **else**    | “Si nada de lo anterior, haz esto”                      | `else: print(\"Hace frío\")`                   |\n",
        "| **for**     | Repetir un bloque recorriendo una lista o rango         | `for i in range(3): print(i)`                |\n",
        "| **while**   | Repetir un bloque **mientras** la condición sea True    | `while vida > 0: vida -= 1`                  |\n",
        "| **def**     | **Definir** una función (receta reutilizable)           | `def saludar(): print(\"¡Hola!\")`             |\n",
        "| **class**   | **Crear un molde** para objetos con atributos y métodos | `class Gato: pass`                           |\n",
        "| **try**     | **Intentar** un bloque que puede fallar                 | `try: 1/0 except: print(\"Error\")`            |\n",
        "| **except**  | Qué hacer **si** falló el bloque `try`                  | `except ZeroDivisionError: ...`              |\n",
        "| **finally** | Se ejecuta **siempre**, haya error o no                 | `finally: print(\"Listo\")`                    |\n",
        "| **with**    | **Abrir** un recurso y cerrarlo automáticamente         | `with open(\"f.txt\") as f: datos = f.read()`  |\n"
      ],
      "metadata": {
        "id": "MSvE_pfqs6Wm"
      }
    },
    {
      "cell_type": "markdown",
      "source": [
        "# Github"
      ],
      "metadata": {
        "id": "VjWEgZZ1cB_r"
      }
    },
    {
      "cell_type": "code",
      "source": [
        "# Comprueba la versión de Git instalada\n",
        "!git --version\n"
      ],
      "metadata": {
        "id": "tp7urIr0lAnI",
        "outputId": "ee1d2249-3ce0-43f5-9540-7c4dd09b6597",
        "colab": {
          "base_uri": "https://localhost:8080/"
        }
      },
      "execution_count": null,
      "outputs": [
        {
          "output_type": "stream",
          "name": "stdout",
          "text": [
            "git version 2.34.1\n"
          ]
        }
      ]
    }
  ]
}