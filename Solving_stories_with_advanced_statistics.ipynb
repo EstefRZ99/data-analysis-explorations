{
  "nbformat": 4,
  "nbformat_minor": 0,
  "metadata": {
    "colab": {
      "provenance": [],
      "authorship_tag": "ABX9TyMD+I/eBOZTyLJuyIiWxGNW",
      "include_colab_link": true
    },
    "kernelspec": {
      "name": "ir",
      "display_name": "R"
    },
    "language_info": {
      "name": "R"
    }
  },
  "cells": [
    {
      "cell_type": "markdown",
      "metadata": {
        "id": "view-in-github",
        "colab_type": "text"
      },
      "source": [
        "<a href=\"https://colab.research.google.com/github/EstefRZ99/data-analysis-explorations/blob/main/Solving_stories_with_advanced_statistics.ipynb\" target=\"_parent\"><img src=\"https://colab.research.google.com/assets/colab-badge.svg\" alt=\"Open In Colab\"/></a>"
      ]
    },
    {
      "cell_type": "code",
      "execution_count": null,
      "metadata": {
        "id": "pIq3a8araKEG"
      },
      "outputs": [],
      "source": [
        "#title: \"Resolviendo Historias\"\n",
        "#author: \"María Estefanny Ramírez\"\n",
        "#Fecha: 2025-04-25\n",
        "#output: pdf_document"
      ]
    },
    {
      "cell_type": "markdown",
      "source": [
        "# **Actividad 1: Resolviendo Historias**\n",
        "Instrucciones Generales\n",
        "Resuelve cada ejercicio paso a paso.\n",
        "Utiliza R para los cálculos que lo requieran.\n",
        "Justifica tus respuestas con explicaciones claras.\n",
        "Relaciona cada ejercicio con la historia de los personajes."
      ],
      "metadata": {
        "id": "hnjdKmNrsVtq"
      }
    },
    {
      "cell_type": "markdown",
      "source": [
        "# ***Sección 1: Probabilidad***"
      ],
      "metadata": {
        "id": "oedJKKbXsag6"
      }
    },
    {
      "cell_type": "markdown",
      "source": [
        "# **Ejercicio 1:**\n",
        "Combinaciones y Permutaciones\n",
        "Permutaciones: Ana, Luis, Marta y Carlos deben organizar las 4 llaves mágicas que encontraron en el Bosque de la Inferencia. ¿De cuántas formas diferentes pueden ordenar las llaves?\n",
        "\n",
        "Combinaciones: En el Pueblo de los Datos, hay 10 libros antiguos sobre muestreo. Ana quiere seleccionar 3 *libros* para estudiar. ¿Cuántos grupos diferentes de 3 libros puede formar?"
      ],
      "metadata": {
        "id": "f9OUPHoCiSKd"
      }
    },
    {
      "cell_type": "markdown",
      "source": [
        "Definición y fórmula\n",
        "\n",
        "Las permutaciones sin repetición de\n",
        "𝑛\n",
        "n objetos se cuentan con\n",
        "\n",
        "𝑃\n",
        "(\n",
        "𝑛\n",
        ")\n",
        "\n",
        "=\n",
        "\n",
        "𝑛\n",
        "!\n",
        "P(n)=n!\n",
        "\n",
        "\n",
        "donde “\n",
        "!\n",
        "” es el factorial: el producto de todos los enteros positivos hasta\n",
        "𝑛\n",
        "n.\n",
        "\n",
        "Cálculo manual\n",
        "\n",
        "4\n",
        "!\n",
        "\n",
        "=\n",
        "\n",
        "4\n",
        "×\n",
        "3\n",
        "×\n",
        "2\n",
        "×\n",
        "1\n",
        "\n",
        "=\n",
        "\n",
        "24\n"
      ],
      "metadata": {
        "id": "9kWDOW4aimAb"
      }
    },
    {
      "cell_type": "code",
      "source": [
        "# Ejercicio 1: Combinaciones y Permutaciones\n",
        "\n",
        "# Permutaciones: ordenar 4 llaves\n",
        "permutaciones <- factorial(4)\n",
        "\n",
        "# Combinaciones: elegir 3 de 10 libros\n",
        "combinaciones <- choose(10, 3)\n",
        "\n",
        "cat(\"Número de formas de ordenar las 4 llaves (permutaciones):\", permutaciones, \"\\n\")\n",
        "cat(\"Número de grupos de 3 libros (combinaciones):\", combinaciones, \"\\n\")\n"
      ],
      "metadata": {
        "colab": {
          "base_uri": "https://localhost:8080/"
        },
        "id": "NDcJHtgjiTWz",
        "outputId": "e9e544e6-4097-4e1c-c702-834c7e3136e0"
      },
      "execution_count": null,
      "outputs": [
        {
          "output_type": "stream",
          "name": "stdout",
          "text": [
            "Número de formas de ordenar las 4 llaves (permutaciones): 24 \n",
            "Número de grupos de 3 libros (combinaciones): 120 \n"
          ]
        }
      ]
    },
    {
      "cell_type": "markdown",
      "source": [
        "# **Ejercicio 2**\n",
        "\n",
        "Probabilidad Condicional\n",
        "En una baraja de 52 cartas, Carlos saca una carta al azar. ¿Cuál es la probabilidad de que sea un rey dado que la carta es una figura (rey, reina o jack)?"
      ],
      "metadata": {
        "id": "L0UitC0WZo2g"
      }
    },
    {
      "cell_type": "markdown",
      "source": [
        "n_figuras <- 12 asigna la cantidad total de cartas “figura”.\n",
        "\n",
        "n_reyes <- 4 asigna cuántas de esas figuras son reyes.\n",
        "\n",
        "La división 4 / 12 devuelve\n",
        "1\n",
        "3\n",
        "3\n",
        "1\n",
        "​\n",
        " , la probabilidad de que la carta sea rey sabiendo que es figura."
      ],
      "metadata": {
        "id": "OU6Nv_iba31C"
      }
    },
    {
      "cell_type": "code",
      "source": [
        "# Ejercicio: Probabilidad condicional (rey | figura)\n",
        "\n",
        "# Número de figuras (reyes, reinas, jacks)\n",
        "n_figuras <- 12\n",
        "\n",
        "# Número de reyes\n",
        "n_reyes <- 4\n",
        "\n",
        "# Cálculo de P(rey | figura)\n",
        "prob_rey_dado_figura <- n_reyes / n_figuras\n",
        "\n",
        "cat(\"Probabilidad de que sea un rey dado que es una figura:\", prob_rey_dado_figura, \"\\n\")\n"
      ],
      "metadata": {
        "colab": {
          "base_uri": "https://localhost:8080/"
        },
        "id": "l1-JdpgzZpt4",
        "outputId": "273e8266-8179-4cbb-d77d-09111ed25706"
      },
      "execution_count": null,
      "outputs": [
        {
          "output_type": "stream",
          "name": "stdout",
          "text": [
            "Probabilidad de que sea un rey dado que es una figura: 0.3333333 \n"
          ]
        }
      ]
    },
    {
      "cell_type": "markdown",
      "source": [
        "# **Ejercicio 3**\n",
        "\n",
        "Teorema de Bayes\n",
        "En el Bosque de la Inferencia, hay dos tipos de árboles: el 70% son árboles de datos normales y el 30% son árboles de datos mágicos. Si un árbol de datos mágicos tiene un 80% de probabilidad de brillar de noche, y un árbol normal tiene un 10% de probabilidad de brillar, ¿cuál es la probabilidad de que un árbol que brilla sea mágico?"
      ],
      "metadata": {
        "id": "13CXGoRbbb--"
      }
    },
    {
      "cell_type": "markdown",
      "source": [
        "Distribución Binomial\n",
        "En el Pueblo de los Datos, el 60% de los habitantes prefieren el té sobre el café. Si Ana entrevista a 5 habitantes al azar, ¿cuál es la probabilidad de que exactamente 3 prefieran el té?\n",
        "\n",
        "En el Pueblo de los Datos, el 70% de los habitantes prefieren el té sobre el café. Si Ana entrevista a 10 habitantes al azar, ¿cuál es la probabilidad de que exactamente 7 prefieran el té?"
      ],
      "metadata": {
        "id": "RQhijfEJdLL1"
      }
    },
    {
      "cell_type": "code",
      "source": [
        "# Teorema de Bayes: P(mágico | brilla)\n",
        "\n",
        "# Probabilidades previas\n",
        "P_magico <- 0.3\n",
        "P_normal <- 0.7\n",
        "\n",
        "# Probabilidades condicionales de brillo\n",
        "P_brilla_dado_magico <- 0.8\n",
        "P_brilla_dado_normal <- 0.1\n",
        "\n",
        "# Probabilidad total de brillo\n",
        "P_brilla <- P_magico * P_brilla_dado_magico + P_normal * P_brilla_dado_normal\n",
        "\n",
        "# Cálculo de P(mágico | brilla)\n",
        "P_magico_dado_brilla <- (P_magico * P_brilla_dado_magico) / P_brilla\n",
        "\n",
        "cat(\"Probabilidad de que un árbol que brilla sea mágico:\", P_magico_dado_brilla, \"\\n\")\n"
      ],
      "metadata": {
        "colab": {
          "base_uri": "https://localhost:8080/"
        },
        "id": "LQ4lVt_Pbd96",
        "outputId": "4fb170b0-3289-48d9-ea54-9740192512be"
      },
      "execution_count": null,
      "outputs": [
        {
          "output_type": "stream",
          "name": "stdout",
          "text": [
            "Probabilidad de que un árbol que brilla sea mágico: 0.7741935 \n"
          ]
        }
      ]
    },
    {
      "cell_type": "markdown",
      "source": [
        "# **Ejercicio 4**\n",
        "\n",
        "\n",
        "Distribución Binomial\n",
        "En el Pueblo de los Datos, el 60% de los habitantes prefieren el té sobre el café. Si Ana entrevista a 5 habitantes al azar, ¿cuál es la probabilidad de que exactamente 3 prefieran el té?\n",
        "\n",
        "En el Pueblo de los Datos, el 70% de los habitantes prefieren el té sobre el café. Si Ana entrevista a 10 habitantes al azar, ¿cuál es la probabilidad de que exactamente 7 prefieran el té?"
      ],
      "metadata": {
        "id": "w-Dkk53MrI4L"
      }
    },
    {
      "cell_type": "markdown",
      "source": [
        "Usamos dbinom(k, size, prob) para obtener la probabilidad de exactamente k “éxitos” en size ensayos con probabilidad p de éxito cada uno.\n",
        "\n",
        "Con n = 5 y p = 0.6: P(X=3) ≈ 0.3456\n",
        "\n",
        "Con n = 10 y p = 0.7: P(X=7) ≈ 0.2668"
      ],
      "metadata": {
        "id": "7VDVLw46eIIK"
      }
    },
    {
      "cell_type": "code",
      "source": [
        "# Distribución Binomial: Probabilidad de exactamente k éxitos\n",
        "\n",
        "# Caso 1: n = 5, p = 0.6, k = 3\n",
        "prob1 <- dbinom(3, size = 5, prob = 0.6)\n",
        "cat(\"P(exactamente 3 de 5 prefieren té, p=0.6):\", prob1, \"\\n\")\n",
        "# Resultado: 0.3456\n",
        "\n",
        "# Caso 2: n = 10, p = 0.7, k = 7\n",
        "prob2 <- dbinom(7, size = 10, prob = 0.7)\n",
        "cat(\"P(exactamente 7 de 10 prefieren té, p=0.7):\", prob2, \"\\n\")\n",
        "# Resultado: ~0.2668\n"
      ],
      "metadata": {
        "colab": {
          "base_uri": "https://localhost:8080/"
        },
        "id": "jLZ7MJqjdTNz",
        "outputId": "d38bf265-55c0-4761-c562-e114b6a7e6ed"
      },
      "execution_count": null,
      "outputs": [
        {
          "output_type": "stream",
          "name": "stdout",
          "text": [
            "P(exactamente 3 de 5 prefieren té, p=0.6): 0.3456 \n",
            "P(exactamente 7 de 10 prefieren té, p=0.7): 0.2668279 \n"
          ]
        }
      ]
    },
    {
      "cell_type": "markdown",
      "source": [
        "# **Ejercicio 5**\n",
        "\n",
        "Distribución de Poisson\n",
        "En el Bosque de la Inferencia, los árboles mágicos brillan en promedio 3 veces por noche. ¿Cuál es la probabilidad de que un árbol brille exactamente 5 veces en una noche?"
      ],
      "metadata": {
        "id": "aap3cVbueiE5"
      }
    },
    {
      "cell_type": "markdown",
      "source": [
        "Use dpois(k, lambda) para calcular la probabilidad de que ocurra exactamente k eventos (brillos) cuando el promedio es lambda. Aquí, con λ = 3 y k = 5, obtenemos aproximadamente 0.1008 (un 10.08 %)."
      ],
      "metadata": {
        "id": "nReRktWme_LF"
      }
    },
    {
      "cell_type": "code",
      "source": [
        "# Distribución de Poisson: probabilidad de exactamente 5 brillos (λ = 3)\n",
        "prob_poisson <- dpois(5, lambda = 3)\n",
        "cat(\"Probabilidad de que un árbol brille 5 veces en una noche:\", prob_poisson, \"\\n\")\n"
      ],
      "metadata": {
        "colab": {
          "base_uri": "https://localhost:8080/"
        },
        "id": "IFCaO2Toe60w",
        "outputId": "f42da5ef-3d7d-48dd-a496-a14dc462c308"
      },
      "execution_count": null,
      "outputs": [
        {
          "output_type": "stream",
          "name": "stdout",
          "text": [
            "Probabilidad de que un árbol brille 5 veces en una noche: 0.1008188 \n"
          ]
        }
      ]
    },
    {
      "cell_type": "markdown",
      "source": [
        "# **Ejercicio 6**\n",
        "Distribución Normal\n",
        "Las alturas de los habitantes del Pueblo de los Datos siguen una distribución normal con media μ = 170 cm y desviación estándar σ = 10 cm. ¿Cuál es la probabilidad de que un habitante mida menos de 160 cm?"
      ],
      "metadata": {
        "id": "5KnrBwUhfeAF"
      }
    },
    {
      "cell_type": "markdown",
      "source": [
        "pnorm(160, mean=170, sd=10) calcula el área bajo la campana normal a la izquierda de 160 cm, dando aproximadamente 0.1587, es decir, un 15.87 % de probabilidad."
      ],
      "metadata": {
        "id": "H6TUJ-0rfp2z"
      }
    },
    {
      "cell_type": "code",
      "source": [
        "# Distribución Normal: probabilidad de X < 160 cuando μ = 170 y σ = 10\n",
        "prob_normal <- pnorm(160, mean = 170, sd = 10)\n",
        "cat(\"Probabilidad de que midan menos de 160 cm:\", prob_normal, \"\\n\")\n",
        "# Salida aproximada: 0.1587\n"
      ],
      "metadata": {
        "colab": {
          "base_uri": "https://localhost:8080/"
        },
        "id": "JNbelar1fgGB",
        "outputId": "9f5dd9f8-f852-44e6-d3da-801ffc9aee4d"
      },
      "execution_count": null,
      "outputs": [
        {
          "output_type": "stream",
          "name": "stdout",
          "text": [
            "Probabilidad de que midan menos de 160 cm: 0.1586553 \n"
          ]
        }
      ]
    },
    {
      "cell_type": "markdown",
      "source": [
        "# **Ejercicio 7**\n",
        "Distribución Exponencial\n",
        "El tiempo entre llegadas de visitantes al Bosque de la Inferencia sigue una distribución exponencial con una tasa de λ = 0.5 visitantes por minuto. ¿Cuál es la probabilidad de que el próximo visitante llegue en menos de 2 minutos?"
      ],
      "metadata": {
        "id": "JEJX7PMuf2fQ"
      }
    },
    {
      "cell_type": "code",
      "source": [
        "# Distribución Exponencial: probabilidad de que la llegada sea en menos de 2 minutos (λ = 0.5)\n",
        "prob_exponencial <- pexp(2, rate = 0.5)\n",
        "cat(\"Probabilidad de que el próximo visitante llegue en menos de 2 minutos:\", prob_exponencial, \"\\n\")\n",
        "# Esto da aproximadamente 0.6321 (63.21 %)\n"
      ],
      "metadata": {
        "colab": {
          "base_uri": "https://localhost:8080/"
        },
        "id": "FLH5boXEf70S",
        "outputId": "261d62fa-ab04-42a6-8299-e4da6b0657a8"
      },
      "execution_count": null,
      "outputs": [
        {
          "output_type": "stream",
          "name": "stdout",
          "text": [
            "Probabilidad de que el próximo visitante llegue en menos de 2 minutos: 0.6321206 \n"
          ]
        }
      ]
    },
    {
      "cell_type": "markdown",
      "source": [
        "pexp(2, rate = 0.5) calcula\n",
        "𝑃\n",
        "(\n",
        "𝑋\n",
        "<\n",
        "2\n",
        ")\n",
        "P(X<2) para\n",
        "𝑋\n",
        "∼\n",
        "Exp\n",
        "(\n",
        "0.5\n",
        ")\n",
        "X∼Exp(0.5), es decir, la probabilidad de que el tiempo de espera sea menor a 2 minutos."
      ],
      "metadata": {
        "id": "cvzrZeeGgBY7"
      }
    },
    {
      "cell_type": "markdown",
      "source": [
        "# **Ejercicio 8**\n",
        "Distribución Uniforme\n",
        "En el Pueblo de los Datos, el tiempo que tarda un mensajero en entregar una carta sigue una distribución uniforme entre 10 y 30 minutos. ¿Cuál es la probabilidad de que el mensajero tarde menos de 20 minutos?"
      ],
      "metadata": {
        "id": "_VkMsHSlgGY2"
      }
    },
    {
      "cell_type": "markdown",
      "source": [
        "punif(20, min=10, max=30) calcula la proporción de la longitud del intervalo [10, 20] sobre el total [10, 30], es decir, (20–10)/(30–10) = 0.5."
      ],
      "metadata": {
        "id": "rTW18t0pgQfE"
      }
    },
    {
      "cell_type": "code",
      "source": [
        "# Distribución Uniforme: probabilidad de que el mensajero tarde menos de 20 minutos (a = 10, b = 30)\n",
        "prob_uniforme <- punif(20, min = 10, max = 30)\n",
        "cat(\"Probabilidad de tardar menos de 20 minutos:\", prob_uniforme, \"\\n\")\n",
        "# Esto da 0.5 (50 %)\n"
      ],
      "metadata": {
        "colab": {
          "base_uri": "https://localhost:8080/"
        },
        "id": "qev_f3aHgJfa",
        "outputId": "23ef7d21-f4de-4ab6-b2bc-b78b9edc7921"
      },
      "execution_count": null,
      "outputs": [
        {
          "output_type": "stream",
          "name": "stdout",
          "text": [
            "Probabilidad de tardar menos de 20 minutos: 0.5 \n"
          ]
        }
      ]
    },
    {
      "cell_type": "markdown",
      "source": [
        "# ***Sección 2: Muestreo***"
      ],
      "metadata": {
        "id": "Vb2tsrGxsjZo"
      }
    },
    {
      "cell_type": "markdown",
      "source": [
        "# **Ejercicio 9**\n",
        "Muestreo Aleatorio Simple\n",
        "En el Pueblo de los Datos, hay 1000 habitantes. Luis necesita seleccionar una muestra aleatoria de 100 personas para una encuesta. ¿Cómo lo haría en R?"
      ],
      "metadata": {
        "id": "pXH1KB1Dt_IM"
      }
    },
    {
      "cell_type": "markdown",
      "source": [
        "poblacion <- 1:1000 crea un vector con los IDs de los 1000 habitantes.\n",
        "\n",
        "sample(..., size = 100, replace = FALSE) extrae 100 valores distintos al azar.\n",
        "\n",
        "print(muestra) muestra en consola los IDs seleccionados."
      ],
      "metadata": {
        "id": "jMi8odpqucaF"
      }
    },
    {
      "cell_type": "code",
      "source": [
        "# Ejercicio 6: Muestreo Aleatorio Simple\n",
        "\n",
        "# Creamos un vector que represente a los 1000 habitantes (por ejemplo, sus IDs)\n",
        "poblacion <- 1:1000\n",
        "\n",
        "# Seleccionamos una muestra aleatoria de 100 personas sin reemplazo\n",
        "muestra <- sample(poblacion, size = 100, replace = FALSE)\n",
        "\n",
        "# Mostrar el resultado\n",
        "print(muestra)\n"
      ],
      "metadata": {
        "colab": {
          "base_uri": "https://localhost:8080/"
        },
        "id": "L7gszhQxuSHl",
        "outputId": "f88a6cc2-09ae-4d9c-b915-2fca7f8089e4"
      },
      "execution_count": null,
      "outputs": [
        {
          "output_type": "stream",
          "name": "stdout",
          "text": [
            "  [1] 468 845 630 148 838 364 135 701 296 448 464 766 227 353 788 451 180  56\n",
            " [19] 539 178 336 391 474 927 812 165 888 827 357 876 366 980 384 510 368 912\n",
            " [37] 813 848 736 602  48  44 266 271  27 721 173  33 661 238 857 691 247 973\n",
            " [55] 476 865 171 351 139  45 722 472 717 337 222 551 392 975 127 635 977 395\n",
            " [73]  10 710  29  20 678 169 349 913 264  39 535 482 831 186 350 463 559 651\n",
            " [91]   8 515 360 320 382 656 643 287 781  81\n"
          ]
        }
      ]
    },
    {
      "cell_type": "markdown",
      "source": [
        "# **Ejercicio 10**\n",
        "Muestreo Estratificado\n",
        "El pueblo está dividido en 4 barrios (Norte, Sur, Este, Oeste), cada uno con 250 habitantes. Marta quiere seleccionar 25 personas de cada barrio. ¿Cómo lo haría en R?"
      ],
      "metadata": {
        "id": "qJ793qBLus8i"
      }
    },
    {
      "cell_type": "markdown",
      "source": [
        "Construimos un data.frame con 1000 registros, asignando cada 250 IDs a uno de los cuatro barrios.\n",
        "\n",
        "Usamos group_by(Barrio) para dividir la población por barrio.\n",
        "\n",
        "Con slice_sample(n = 25) extraemos 25 muestras de forma aleatoria y sin reemplazo de cada grupo.\n",
        "\n",
        "print() muestra los IDs seleccionados, ya estratificados."
      ],
      "metadata": {
        "id": "u8hK_1In4et5"
      }
    },
    {
      "cell_type": "code",
      "source": [
        "# Muestreo Estratificado\n",
        "\n",
        "# Asegúrate de tener dplyr cargado\n",
        "library(dplyr)\n",
        "\n",
        "# Creamos un data.frame con 1000 IDs y su barrio\n",
        "barrios <- rep(c(\"Norte\", \"Sur\", \"Este\", \"Oeste\"), each = 250)\n",
        "poblacion <- data.frame(ID = 1:1000, Barrio = barrios)\n",
        "\n",
        "# Seleccionamos 25 personas de cada barrio\n",
        "muestra_estratificada <- poblacion %>%\n",
        "  group_by(Barrio) %>%\n",
        "  slice_sample(n = 25, replace = FALSE)\n",
        "\n",
        "# Mostrar la muestra resultante\n",
        "print(muestra_estratificada)\n"
      ],
      "metadata": {
        "colab": {
          "base_uri": "https://localhost:8080/"
        },
        "id": "cp6d8gsA4WM1",
        "outputId": "66a773fd-4227-43db-a398-883acc366606"
      },
      "execution_count": null,
      "outputs": [
        {
          "output_type": "stream",
          "name": "stderr",
          "text": [
            "\n",
            "Attaching package: ‘dplyr’\n",
            "\n",
            "\n",
            "The following objects are masked from ‘package:stats’:\n",
            "\n",
            "    filter, lag\n",
            "\n",
            "\n",
            "The following objects are masked from ‘package:base’:\n",
            "\n",
            "    intersect, setdiff, setequal, union\n",
            "\n",
            "\n"
          ]
        },
        {
          "output_type": "stream",
          "name": "stdout",
          "text": [
            "\u001b[90m# A tibble: 100 × 2\u001b[39m\n",
            "\u001b[90m# Groups:   Barrio [4]\u001b[39m\n",
            "      ID Barrio\n",
            "   \u001b[3m\u001b[90m<int>\u001b[39m\u001b[23m \u001b[3m\u001b[90m<chr>\u001b[39m\u001b[23m \n",
            "\u001b[90m 1\u001b[39m   670 Este  \n",
            "\u001b[90m 2\u001b[39m   707 Este  \n",
            "\u001b[90m 3\u001b[39m   626 Este  \n",
            "\u001b[90m 4\u001b[39m   725 Este  \n",
            "\u001b[90m 5\u001b[39m   719 Este  \n",
            "\u001b[90m 6\u001b[39m   683 Este  \n",
            "\u001b[90m 7\u001b[39m   525 Este  \n",
            "\u001b[90m 8\u001b[39m   632 Este  \n",
            "\u001b[90m 9\u001b[39m   737 Este  \n",
            "\u001b[90m10\u001b[39m   712 Este  \n",
            "\u001b[90m# ℹ 90 more rows\u001b[39m\n"
          ]
        }
      ]
    },
    {
      "cell_type": "markdown",
      "source": [
        "# **Ejercicio 11**\n",
        "\n",
        "Tamaño de la Muestra\n",
        "Carlos quiere estimar la proporción de habitantes que prefieren el té con un nivel de confianza del 95% y un margen de error del 5%. ¿Cuál es el tamaño de la muestra necesario?"
      ],
      "metadata": {
        "id": "xRxyV8nK4mD-"
      }
    },
    {
      "cell_type": "markdown",
      "source": [
        "Usamos el valor crítico\n",
        "𝑍\n",
        "Z de 1.96 (obtenido con qnorm(0.975)) para un 95 % de confianza, asumimos\n",
        "𝑝\n",
        "=\n",
        "0.5\n",
        "p=0.5 para maximizar la varianza y un margen de error\n",
        "𝐸\n",
        "=\n",
        "0.05\n",
        "E=0.05. La fórmula\n",
        "𝑛\n",
        "=\n",
        "𝑍\n",
        "2\n",
        "\n",
        "𝑝\n",
        "\n",
        "(\n",
        "1\n",
        "−\n",
        "𝑝\n",
        ")\n",
        "𝐸\n",
        "2\n",
        "n=\n",
        "E\n",
        "2\n",
        "\n",
        "Z\n",
        "2\n",
        " p(1−p)\n",
        "​\n",
        "  da aproximadamente 384.16, que redondeamos a 385 participantes."
      ],
      "metadata": {
        "id": "yiGq-myD4-Zs"
      }
    },
    {
      "cell_type": "code",
      "source": [
        "# Tamaño de muestra para proporción (95 % de confianza, E = 5 %)\n",
        "\n",
        "# Valor crítico Z para 95 % de confianza\n",
        "Z <- qnorm(0.975)\n",
        "\n",
        "# Proporción estimada (valor conservador si no se conoce): p = 0.5\n",
        "p <- 0.5\n",
        "\n",
        "# Margen de error deseado\n",
        "E <- 0.05\n",
        "\n",
        "# Fórmula: n = (Z^2 · p · (1 – p)) / E^2\n",
        "n <- (Z^2 * p * (1 - p)) / (E^2)\n",
        "\n",
        "# Redondear hacia arriba al entero más cercano\n",
        "n_necesario <- ceiling(n)\n",
        "\n",
        "cat(\"Tamaño de muestra necesario:\", n_necesario, \"\\n\")\n"
      ],
      "metadata": {
        "colab": {
          "base_uri": "https://localhost:8080/"
        },
        "id": "4NqMui5q4sC2",
        "outputId": "238712e5-38fd-4346-e701-e42efdd22885"
      },
      "execution_count": null,
      "outputs": [
        {
          "output_type": "stream",
          "name": "stdout",
          "text": [
            "Tamaño de muestra necesario: 385 \n"
          ]
        }
      ]
    },
    {
      "cell_type": "markdown",
      "source": [
        "# **Ejercicio 12**\n",
        "Muestreo por Conglomerados\n",
        "El pueblo tiene 10 distritos, cada uno con 100 habitantes. Ana decide seleccionar 2 distritos al azar y encuestar a todos sus habitantes. ¿Cuántas personas incluirá en su muestra?"
      ],
      "metadata": {
        "id": "AlKXrpw55B6t"
      }
    },
    {
      "cell_type": "markdown",
      "source": [
        "Al elegir 2 distritos de los 10 y encuestar a los 100 habitantes de cada uno, la muestra contendrá\n",
        "2\n",
        "×\n",
        "100\n",
        "=\n",
        "200\n",
        "2×100=200 personas."
      ],
      "metadata": {
        "id": "HUzhgteI5imG"
      }
    },
    {
      "cell_type": "code",
      "source": [
        "# Muestreo por conglomerados\n",
        "\n",
        "# Definimos los distritos y el tamaño de cada uno\n",
        "distritos <- 1:10\n",
        "habitantes_por_distrito <- 100\n",
        "\n",
        "# Seleccionamos 2 distritos al azar\n",
        "distritos_seleccionados <- sample(distritos, size = 2, replace = FALSE)\n",
        "\n",
        "# Calculamos cuántas personas hay en la muestra\n",
        "personas_incluidas <- length(distritos_seleccionados) * habitantes_por_distrito\n",
        "\n",
        "cat(\"Distritos seleccionados:\", distritos_seleccionados, \"\\n\")\n",
        "cat(\"Total de personas en la muestra:\", personas_incluidas, \"\\n\")\n"
      ],
      "metadata": {
        "colab": {
          "base_uri": "https://localhost:8080/"
        },
        "id": "LJ3Z85id5R-b",
        "outputId": "198b6d02-250a-438c-a685-e9c254118728"
      },
      "execution_count": null,
      "outputs": [
        {
          "output_type": "stream",
          "name": "stdout",
          "text": [
            "Distritos seleccionados: 9 6 \n",
            "Total de personas en la muestra: 200 \n"
          ]
        }
      ]
    },
    {
      "cell_type": "markdown",
      "source": [],
      "metadata": {
        "id": "cC8GFr8duVRF"
      }
    },
    {
      "cell_type": "markdown",
      "source": [
        "# **Ejercicio 13**\n",
        "Muestreo Sistemático\n",
        "Luis quiere seleccionar una muestra sistemática de 50 habitantes de una lista de 1000. Si elige un punto de inicio aleatorio y un intervalo de 20, ¿cuál es la probabilidad de que un habitante específico sea seleccionado?\n",
        "\n",
        "Con muestreo sistemático y un intervalo de 20 (1000/50), cada puesto en la lista tiene la misma oportunidad de quedar en la muestra. Esa oportunidad equivale a n/N = 50/1000 = 0.05, o sea un 5 %.\n"
      ],
      "metadata": {
        "id": "F-F0TupU50NC"
      }
    },
    {
      "cell_type": "code",
      "source": [
        "# Muestreo Sistemático\n",
        "\n",
        "# Parámetros\n",
        "N <- 1000   # tamaño de la población\n",
        "n <- 50     # tamaño de la muestra\n",
        "\n",
        "# Probabilidad de selección de un individuo específico\n",
        "prob_seleccion <- n / N\n",
        "\n",
        "cat(\"Probabilidad de que un habitante específico sea seleccionado:\", prob_seleccion, \"\\n\")\n",
        "# Esto imprime 0.05, es decir, un 5 %\n"
      ],
      "metadata": {
        "colab": {
          "base_uri": "https://localhost:8080/"
        },
        "id": "Mj1o1Dr256w2",
        "outputId": "fd542b60-96ab-42a0-8a40-d5a8b9fd6971"
      },
      "execution_count": null,
      "outputs": [
        {
          "output_type": "stream",
          "name": "stdout",
          "text": [
            "Probabilidad de que un habitante específico sea seleccionado: 0.05 \n"
          ]
        }
      ]
    },
    {
      "cell_type": "markdown",
      "source": [
        "# **Sección 3: Storytelling con Datos**"
      ],
      "metadata": {
        "id": "XCYhjEdg6MZo"
      }
    },
    {
      "cell_type": "markdown",
      "source": [
        "Ejercicio 5: Contexto y Efectividad Visual\n",
        "Contexto: Ana debe presentar los resultados de una encuesta sobre preferencias de transporte (auto, bicicleta, transporte público) a los líderes del pueblo. ¿Qué contexto debe incluir en su presentación?\n",
        "\n",
        "Gráfico de Barras: Crea un gráfico de barras en R para mostrar los resultados de la encuesta (auto: 40%, bicicleta: 30%, transporte público: 30%).\n",
        "\n",
        "Gráfico de Líneas: Crea un gráfico de líneas para mostrar el rendimiento de estudiantes en tres materias (Matemáticas, Ciencias, Historia) en dos años (2022 y 2023).\n",
        "Año = (2022, 2023, 2022, 2023, 2022, 2023),\n",
        "Materia = (\"Matemáticas\", \"Matemáticas\", \"Ciencias\", \"Ciencias\", \"Historia\", \"Historia\"),\n",
        "Rendimiento = (70, 75, 65, 80, 60, 70)\n",
        "\n",
        "Mapa de Calor: Crea un mapa de calor para mostrar la distribución de temperaturas en el Pueblo de los Datos durante una semana.\n",
        "Día = (\"Lunes\", \"Martes\", \"Miércoles\", \"Jueves\", \"Viernes\", \"Sábado\", \"Domingo\"),\n",
        "Temperatura = (25, 28, 30, 27, 26, 29, 31)\n",
        "\n",
        "Histograma: Crea un histograma para mostrar la distribución de edades en el Pueblo de los Datos.\n",
        "\n",
        "Edad de los habitantes: (42, 39, 46, 37, 48, 34, 50, 38, 45, 40, 43, 36, 47, 35, 49, 41, 38, 44, 40, 46, 37, 42, 39, 48, 36, 45, 41, 43, 35, 47, 38, 44, 40, 46, 37, 42, 39, 48, 34, 50, 38, 45, 40, 43, 36, 47, 35, 49, 41, 38, 44, 40, 46, 37, 42, 39, 48, 36, 45, 41, 43, 35, 47, 38, 44, 40, 46, 37, 42, 39, 48, 34, 50, 38, 45, 40, 43, 36, 47, 35, 49, 41, 38, 44, 40, 46, 37, 42, 39, 48, 36, 45, 41, 43, 35, 47, 38, 44, 40, 46, 37, 42, 39, 48, 34, 50, 38, 45, 40, 43, 36, 47, 35, 49, 41, 38, 44, 40, 46, 37, 42, 39, 48, 36, 45, 41, 43, 35, 47, 38, 44, 40, 46, 37, 42, 39, 48, 34, 50, 38, 45, 40, 43, 36, 47, 35, 49, 41, 38, 44, 40, 46, 37, 42, 39, 48, 36, 45, 41, 43, 35, 47, 38, 44, 40, 46, 37, 42, 39, 48, 34, 50, 38, 45, 40, 43, 36, 47, 35, 49, 41, 38, 44, 40, 46, 37, 42, 39, 48, 36, 45, 41, 43, 35, 47, 38, 44, 40, 46, 37, 42, 39, 48, 34, 50, 38, 45, 40, 43, 36, 47, 35, 49, 41, 38, 44, 40, 46, 37, 42, 39, 48, 36, 45, 41, 43, 35, 47, 38, 44, 40, 46, 37, 42, 39, 48, 34, 50, 38, 45, 40, 43, 36, 47, 35, 49, 41, 38, 44, 40, 46, 37, 42, 39, 48, 36, 45, 41, 43, 35, 47, 38, 44, 40, 46, 37, 42, 39, 48, 34, 50, 38, 45, 40, 43, 36, 47, 35, 49, 41, 38, 44, 40, 46, 37, 42, 39, 48, 36, 45, 41, 43, 35, 47, 38, 44, 40, 46, 37, 42, 39, 48, 34, 50, 38, 45, 40, 43, 36, 47, 35, 49, 41, 38, 44, 40, 46, 37, 42, 39, 48, 36, 45, 41, 43, 35, 47, 38, 44, 40, 46, 37, 42, 39, 48, 34, 50, 38, 45, 40, 43, 36, 47, 35, 49, 41, 38, 44, 40, 46, 37, 42, 39, 48, 36, 45, 41, 43, 35, 47, 38, 44, 40, 46, 37, 42, 39, 48, 34, 50, 38, 45, 40, 43, 36, 47, 35, 49, 41, 38, 44, 40, 46, 37, 42, 39, 48, 36, 45, 41, 43, 35, 47, 38, 44, 40, 46, 37, 42, 39, 48, 34, 50, 38, 45, 40, 43, 36, 47, 35, 49, 41, 38, 44, 40, 46, 37, 42, 39, 48, 36, 45, 41, 43, 35, 47, 38, 44, 40, 46, 37, 42, 39, 48, 34, 50, 38, 45, 40, 43, 36, 47, 35, 49, 41, 38, 44, 40, 46, 37, 42, 39, 48, 36, 45, 41, 43, 35, 47, 38, 44, 40, 46, 37, 42, 39, 48, 34, 50, 38, 45, 40, 43, 36, 47, 35, 49, 41, 38, 44, 40, 46, 37, 42, 39, 48, 36, 45, 41, 43, 35, 47, 38, 44, 40, 46, 37, 42, 39, 48, 34, 50, 38, 45, 40, 43, 36, 47, 35, 49, 41, 38, 44, 40, 46, 37, 42, 39, 48, 36, 45, 41, 43, 35, 47, 38, 44, 40, 46, 37, 42, 39, 48, 34, 50, 38, 45, 40, 43, 36, 47, 35, 49, 41, 38, 44, 40, 46, 37, 42, 39, 48, 36, 45, 41, 43, 35, 47, 38, 44, 40, 46, 37, 42, 39, 48, 34, 50, 38, 45, 40, 43, 36, 47, 35, 49, 41, 38, 44, 40, 46, 37, 42, 39, 48, 36, 45, 41, 43, 35, 47, 38, 44, 40, 46, 37, 42, 39, 48, 34, 50, 38, 45, 40, 43, 36, 47, 35, 49, 41, 38, 44, 40, 46, 37, 42, 39, 48, 36, 45, 41, 43, 35, 47, 38, 44, 40, 46, 37, 42, 39, 48, 34, 50, 38, 45, 40, 43, 36, 47, 35, 49, 41, 38, 44, 40, 46, 37, 42, 39, 48, 36, 45, 41, 43, 35, 47, 38, 44, 40, 46, 37, 42, 39, 48, 34, 50, 38, 45, 40, 43, 36, 47, 35, 49, 41, 38, 44, 40, 46)"
      ],
      "metadata": {
        "id": "QxOFlLq-8bTk"
      }
    },
    {
      "cell_type": "markdown",
      "source": [
        "Contexto a incluir\n",
        "Antes de mostrar los gráficos, Ana debería explicar:\n",
        "\n",
        "Objetivo de la encuesta: medir la preferencia de medios de transporte entre los habitantes.\n",
        "\n",
        "Población y muestra: número de habitantes totales, cómo se escogieron (aleatorio, tamaño).\n",
        "\n",
        "Fecha y lugar: cuándo y dónde se realizó (Pueblo de los Datos, día y mes).\n",
        "\n",
        "Método de recolección: entrevista cara a cara, formulario, etc.\n",
        "\n",
        "Variables: “Medio de transporte” (auto, bicicleta, transporte público), “Rendimiento por materia”, “Temperatura diaria”, “Edad”.\n",
        "\n",
        "Interpretación: breve guía sobre qué nos dicen los colores, ejes y proporciones."
      ],
      "metadata": {
        "id": "DJ1SDiFu-NbN"
      }
    },
    {
      "cell_type": "code",
      "source": [
        "# 1. Gráfico de Barras: preferencias de transporte\n",
        "transporte   <- c(\"Auto\", \"Bicicleta\", \"Transporte Público\")\n",
        "porcentajes  <- c(40, 30, 30)\n",
        "\n",
        "barplot(porcentajes,\n",
        "        names.arg = transporte,\n",
        "        main      = \"Preferencias de Transporte\",\n",
        "        xlab      = \"Medio\",\n",
        "        ylab      = \"Porcentaje (%)\",\n",
        "        ylim      = c(0, 50))\n"
      ],
      "metadata": {
        "colab": {
          "base_uri": "https://localhost:8080/",
          "height": 437
        },
        "id": "UXmQOy0g-Sx9",
        "outputId": "273dfc21-edac-4c24-f858-3c9a44f4a3db"
      },
      "execution_count": null,
      "outputs": [
        {
          "output_type": "display_data",
          "data": {
            "text/plain": [
              "Plot with title “Preferencias de Transporte”"
            ],
            "image/png": "[encoded data removed]"
          },
          "metadata": {
            "image/png": {
              "width": 420,
              "height": 420
            }
          }
        }
      ]
    },
    {
      "cell_type": "markdown",
      "source": [
        "Gráfico de Barras: Preferencias de Transporte\n",
        "Este gráfico nos muestra que el automóvil es el medio de transporte más elegido por los habitantes del Pueblo de los Datos, con un 40% de preferencia. Bicicleta y transporte público están empatados con un 30% cada uno. Esto sugiere que, aunque hay interés por medios sostenibles, aún predomina el uso del vehículo privado. Este tipo de visualización es ideal para comparar categorías de forma directa.\n",
        "\n"
      ],
      "metadata": {
        "id": "lYfFgxUdcUcU"
      }
    },
    {
      "cell_type": "code",
      "source": [
        "# 2. Gráfico de Líneas: rendimiento por materia (2022 vs 2023)\n",
        "library(ggplot2)\n",
        "\n",
        "datos_rend <- data.frame(\n",
        "  Año         = rep(c(2022, 2023), each = 3),\n",
        "  Materia     = rep(c(\"Matemáticas\", \"Ciencias\", \"Historia\"), times = 2),\n",
        "  Rendimiento = c(70, 65, 60, 75, 80, 70)\n",
        ")\n",
        "\n",
        "ggplot(datos_rend, aes(x = Año, y = Rendimiento, color = Materia, group = Materia)) +\n",
        "  geom_line(size = 1) +\n",
        "  geom_point(size = 3) +\n",
        "  labs(title = \"Rendimiento de Estudiantes (2022–2023)\",\n",
        "       x     = \"Año\",\n",
        "       y     = \"Rendimiento (%)\") +\n",
        "  theme_minimal()\n"
      ],
      "metadata": {
        "colab": {
          "base_uri": "https://localhost:8080/",
          "height": 489
        },
        "id": "41T56NJj-Wh1",
        "outputId": "4f0aebd3-b093-47c3-f2bf-696b12b5f6b8"
      },
      "execution_count": null,
      "outputs": [
        {
          "output_type": "stream",
          "name": "stderr",
          "text": [
            "Warning message:\n",
            "“\u001b[1m\u001b[22mUsing `size` aesthetic for lines was deprecated in ggplot2 3.4.0.\n",
            "\u001b[36mℹ\u001b[39m Please use `linewidth` instead.”\n"
          ]
        },
        {
          "output_type": "display_data",
          "data": {
            "text/plain": [
              "plot without title"
            ],
            "image/png": "[encoded data removed]"
          },
          "metadata": {
            "image/png": {
              "width": 420,
              "height": 420
            }
          }
        }
      ]
    },
    {
      "cell_type": "markdown",
      "source": [
        " Gráfico de Líneas: Rendimiento por Materia (2022 vs 2023)\n",
        "Aquí observamos el cambio en el rendimiento académico de estudiantes en tres materias entre los años 2022 y 2023. Se nota una mejora en todas las áreas, especialmente en Ciencias, que pasa de 65 a 80 puntos. Este gráfico revela tendencias y permite identificar avances o retrocesos a lo largo del tiempo. También ayuda a enfocar esfuerzos educativos en áreas que mejoran o requieren más atención.\n",
        "\n"
      ],
      "metadata": {
        "id": "Ou17V6O_cYAp"
      }
    },
    {
      "cell_type": "code",
      "source": [
        "# 3. Mapa de Calor: temperatura semanal\n",
        "library(ggplot2)\n",
        "\n",
        "dias         <- c(\"Lunes\", \"Martes\", \"Miércoles\", \"Jueves\", \"Viernes\", \"Sábado\", \"Domingo\")\n",
        "temperatura  <- c(25, 28, 30, 27, 26, 29, 31)\n",
        "datos_temp   <- data.frame(Día = dias, Temperatura = temperatura)\n",
        "\n",
        "ggplot(datos_temp, aes(x = Día, y = 1, fill = Temperatura)) +\n",
        "  geom_tile(color = \"white\") +\n",
        "  scale_fill_gradient(low = \"lightblue\", high = \"darkred\") +\n",
        "  labs(title = \"Mapa de Calor de Temperaturas\",\n",
        "       x     = NULL,\n",
        "       y     = NULL) +\n",
        "  theme_minimal() +\n",
        "  theme(axis.text.y = element_blank(),\n",
        "        axis.ticks.y = element_blank())\n"
      ],
      "metadata": {
        "colab": {
          "base_uri": "https://localhost:8080/",
          "height": 437
        },
        "id": "kL_Hie49-add",
        "outputId": "29c4429e-3f97-49d7-c753-03f54692a7e7"
      },
      "execution_count": null,
      "outputs": [
        {
          "output_type": "display_data",
          "data": {
            "text/plain": [
              "plot without title"
            ],
            "image/png": "[encoded data removed]"
          },
          "metadata": {
            "image/png": {
              "width": 420,
              "height": 420
            }
          }
        }
      ]
    },
    {
      "cell_type": "markdown",
      "source": [
        "Mapa de Calor: Temperaturas Semanales\n",
        "El mapa de calor muestra la temperatura promedio por día de la semana. Se observa un aumento progresivo desde el lunes (25 °C) hasta el domingo (31 °C). La escala de colores permite identificar rápidamente los días más calurosos (colores rojizos) y los más frescos (tonos azules). Este tipo de visualización es muy útil para detectar patrones en datos continuos como el clima."
      ],
      "metadata": {
        "id": "Rrfq5DtgcbIW"
      }
    },
    {
      "cell_type": "code",
      "source": [
        "\n",
        "# edades <- c(42, 39, 46, ..., 48)\n",
        "\n",
        "# 1. Calculamos el límite inferior (múltiplo de 5 menor o igual al mínimo)\n",
        "min_break <- floor(min(edades) / 5) * 5\n",
        "\n",
        "# 2. Calculamos el límite superior (múltiplo de 5 mayor o igual al máximo)\n",
        "max_break <- ceiling(max(edades) / 5) * 5\n",
        "\n",
        "# 3. Generamos la secuencia de cortes cada 5 años\n",
        "breaks_seq <- seq(min_break, max_break, by = 5)\n",
        "\n",
        "# 4. Dibujamos el histograma cubriendo todo el rango\n",
        "hist(edades,\n",
        "     breaks        = breaks_seq,\n",
        "     include.lowest= TRUE,    # incluye el extremo izquierdo\n",
        "     right         = FALSE,   # define intervalos [a,b)\n",
        "     main          = \"Distribución de Edades en el Pueblo de los Datos\",\n",
        "     xlab          = \"Edad (años)\",\n",
        "     ylab          = \"Frecuencia\",\n",
        "     col           = \"lightblue\",\n",
        "     border        = \"black\")\n"
      ],
      "metadata": {
        "colab": {
          "base_uri": "https://localhost:8080/",
          "height": 437
        },
        "id": "xe9ef3aS_D6e",
        "outputId": "7a8f236a-0549-4228-9647-a188a2f676a6"
      },
      "execution_count": null,
      "outputs": [
        {
          "output_type": "display_data",
          "data": {
            "text/plain": [
              "Plot with title “Distribución de Edades en el Pueblo de los Datos”"
            ],
            "image/png": "[encoded data removed]"
          },
          "metadata": {
            "image/png": {
              "width": 420,
              "height": 420
            }
          }
        }
      ]
    },
    {
      "cell_type": "markdown",
      "source": [
        " Histograma: Distribución de Edades\n",
        "Este histograma nos permite ver cómo se distribuyen las edades de los habitantes del pueblo. Los datos se agrupan en intervalos de 5 años. La mayoría de las personas parecen estar en el rango de 35 a 45 años, lo cual indica una población relativamente joven-adulta. Este gráfico es ideal para identificar la forma de la distribución (simétrica, sesgada, etc.) y planificar servicios o políticas según la edad predominante."
      ],
      "metadata": {
        "id": "FQFan7QNcejg"
      }
    },
    {
      "cell_type": "markdown",
      "source": [
        "Sección 4: Reflexión Final\n",
        "# Responder a las preguntas de reflexión:\n",
        "\n",
        "¿Cómo aplicarías los conceptos de probabilidad, muestreo y storytelling con datos en un caso real?\n",
        "\n",
        "Si tuvieras que analizar un conjunto de datos real, ¿qué pasos seguirías para presentar los resultados de manera efectiva?"
      ],
      "metadata": {
        "id": "r6LOxQhHDv-w"
      }
    },
    {
      "cell_type": "markdown",
      "source": [
        "# **Reflexión Final**\n",
        "\n",
        "Aplicación de probabilidad, muestreo y storytelling con datos en un caso real\n",
        "\n",
        "Por ejemplo se puede imaginar una organización que distribuye agua potable en comunidades rurales. La probabilidad permitiría estimar cuántos litros necesitará cada aldea en la época seca, calculando, por ejemplo, la chance de que el consumo supere las reservas disponibles. El muestreo estratificado, a su vez, garantizaría que la encuesta incluya a niños, adultos y personas mayores de cada comunidad para no pasar por alto a los grupos más vulnerables. Una vez recogida la información, el storytelling con datos la transformaría en una narrativa clara: un mapa de calor mostraría las zonas con mayor riesgo de desabastecimiento, un histograma reflejaría el consumo por franja etaria y un gráfico de líneas ilustraría cómo distintas fuentes de abastecimiento podrían cubrir la demanda futura. Así, donantes y autoridades comprenderían de un vistazo la magnitud del problema y las soluciones basadas en evidencia.\n",
        "\n",
        "Pasos para analizar un conjunto de datos real y presentar resultados de manera efectiva\n",
        "\n",
        "Definir el propósito y las preguntas clave. Antes de abrir la hoja de cálculo, precisar qué se quiere responder y por qué es relevante para la audiencia.\n",
        "\n",
        "Recolectar y limpiar los datos. Unificar fuentes (sensores, encuestas, registros) y corregir valores faltantes o inconsistentes para asegurar la calidad de la base.\n",
        "\n",
        "Explorar de forma descriptiva. Generar estadísticas básicas y visualizaciones iniciales—diagramas de caja, histogramas, mapas—para detectar patrones, atípicos o sesgos.\n",
        "\n",
        "Elegir los métodos adecuados. Seleccionar pruebas de hipótesis, regresiones, modelos de series temporales u otras técnicas que se ajusten al tipo de variable y a las preguntas planteadas.\n",
        "\n",
        "Validar los resultados. Verificar supuestos (normalidad, independencia) y, si procede, aplicar validación cruzada o dividir la muestra en entrenamiento y prueba para evitar sobreajuste.\n",
        "\n",
        "Construir la narrativa visual. Diseñar gráficos con títulos claros, ejes rotulados y anotaciones que destaquen los hallazgos más importantes, enlazándolos en una historia lógica que guíe al lector desde el contexto hasta las conclusiones.\n",
        "\n",
        "Adaptar la entrega a la audiencia. Preparar un informe ejecutivo conciso para los tomadores de decisión y un anexo técnico detallado para el equipo de datos, de modo que cada público reciba la profundidad de información que necesita para actuar."
      ],
      "metadata": {
        "id": "3ffTPfrPEJFN"
      }
    }
  ]
}